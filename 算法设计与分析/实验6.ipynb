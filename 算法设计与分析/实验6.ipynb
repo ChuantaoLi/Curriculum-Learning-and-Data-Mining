{
 "cells": [
  {
   "cell_type": "code",
   "id": "initial_id",
   "metadata": {
    "collapsed": true,
    "ExecuteTime": {
     "end_time": "2025-04-24T12:22:35.118358Z",
     "start_time": "2025-04-24T12:22:35.109344Z"
    }
   },
   "source": [
    "def hasCycle(graph):\n",
    "    \"\"\"\n",
    "    判断给定有向图中是否存在环路\n",
    "    graph: dict，邻接表表示的有向图 {0: [1], 1: [2], 2: [0]} 等形式\n",
    "    return: bool，是否存在环\n",
    "    \"\"\"\n",
    "    n = len(graph)\n",
    "\n",
    "    student_id = \"202211672411\"\n",
    "    sum_digits = sum(int(ch) for ch in student_id)\n",
    "    if sum_digits % 2 == 0:\n",
    "        start = sum_digits % n\n",
    "    else:\n",
    "        start = (n - 1 - sum_digits % n)\n",
    "\n",
    "    visited = [0] * n  # 0=未访问, 1=正在访问, 2=已访问\n",
    "\n",
    "    def dfs(v):\n",
    "        if visited[v] == 1:  # 访问中再访问，说明有环\n",
    "            return True\n",
    "        if visited[v] == 2:  # 已访问，不需要再搜\n",
    "            return False\n",
    "        visited[v] = 1\n",
    "        for neighbor in graph.get(v, []):\n",
    "            if dfs(neighbor):\n",
    "                return True\n",
    "        visited[v] = 2\n",
    "        return False\n",
    "\n",
    "    # 从指定起点开始DFS，如果图不连通，也遍历其他点\n",
    "    if dfs(start):\n",
    "        return True\n",
    "    for i in range(n):\n",
    "        if visited[i] == 0:\n",
    "            if dfs(i):\n",
    "                return True\n",
    "    return False\n",
    "\n",
    "\n",
    "# 示例：图中存在环路\n",
    "graph1 = {\n",
    "    0: [1],\n",
    "    1: [2],\n",
    "    2: [0]\n",
    "}\n",
    "\n",
    "# 示例：图中不存在环路\n",
    "graph2 = {\n",
    "    0: [1],\n",
    "    1: [2],\n",
    "    2: []\n",
    "}\n",
    "\n",
    "print(hasCycle(graph1))\n",
    "print(hasCycle(graph2))\n"
   ],
   "outputs": [
    {
     "name": "stdout",
     "output_type": "stream",
     "text": [
      "True\n",
      "False\n"
     ]
    }
   ],
   "execution_count": 1
  },
  {
   "metadata": {
    "ExecuteTime": {
     "end_time": "2025-04-24T12:56:05.103601Z",
     "start_time": "2025-04-24T12:56:05.088623Z"
    }
   },
   "cell_type": "code",
   "source": [
    "from collections import defaultdict, deque\n",
    "\n",
    "\n",
    "def kahn_topological_sort(courses):\n",
    "    graph = defaultdict(list)\n",
    "    in_degree = defaultdict(int)\n",
    "\n",
    "    for pre, course in courses:\n",
    "        graph[pre].append(course)\n",
    "        in_degree[course] += 1\n",
    "        if pre not in in_degree:\n",
    "            in_degree[pre] = 0\n",
    "\n",
    "    queue = deque([course for course in in_degree if in_degree[course] == 0])\n",
    "    topo_order = []\n",
    "\n",
    "    while queue:\n",
    "        course = queue.popleft()\n",
    "        topo_order.append(course)\n",
    "\n",
    "        for neighbor in graph[course]:\n",
    "            in_degree[neighbor] -= 1\n",
    "            if in_degree[neighbor] == 0:\n",
    "                queue.append(neighbor)\n",
    "\n",
    "    if len(topo_order) == len(in_degree):\n",
    "        return topo_order\n",
    "    else:\n",
    "        return []\n",
    "\n",
    "\n",
    "ai_courses = [\n",
    "    (\"Python编程基础\", \"数据结构与算法\"),\n",
    "    (\"数据结构与算法\", \"人工智能导论\"),\n",
    "    (\"人工智能导论\", \"机器学习\"),\n",
    "    (\"人工智能导论\", \"计算机视觉\"),\n",
    "    (\"机器学习\", \"深度学习\"),\n",
    "    (\"深度学习\", \"自然语言处理\"),\n",
    "    (\"概率论与统计\", \"机器学习\"),\n",
    "    (\"线性代数\", \"深度学习\"),\n",
    "    (\"计算机视觉\", \"图像识别\")\n",
    "]\n",
    "\n",
    "order = kahn_topological_sort(ai_courses)\n",
    "print(\"推荐学习顺序：\")\n",
    "for i, course in enumerate(order, 1):\n",
    "    print(f\"{i}. {course}\")\n"
   ],
   "id": "77ead13ff494fec8",
   "outputs": [
    {
     "name": "stdout",
     "output_type": "stream",
     "text": [
      "推荐学习顺序：\n",
      "1. Python编程基础\n",
      "2. 概率论与统计\n",
      "3. 线性代数\n",
      "4. 数据结构与算法\n",
      "5. 人工智能导论\n",
      "6. 机器学习\n",
      "7. 计算机视觉\n",
      "8. 深度学习\n",
      "9. 图像识别\n",
      "10. 自然语言处理\n"
     ]
    }
   ],
   "execution_count": 4
  },
  {
   "metadata": {
    "ExecuteTime": {
     "end_time": "2025-04-24T13:07:23.225268Z",
     "start_time": "2025-04-24T13:07:23.215532Z"
    }
   },
   "cell_type": "code",
   "source": [
    "def tarjans_scc(graph):\n",
    "    index = 0\n",
    "    stack = []\n",
    "    indices = {}\n",
    "    lowlink = {}\n",
    "    on_stack = set()\n",
    "    result = []\n",
    "\n",
    "    def strongconnect(v):\n",
    "        nonlocal index\n",
    "        indices[v] = index\n",
    "        lowlink[v] = index\n",
    "        index += 1\n",
    "        stack.append(v)\n",
    "        on_stack.add(v)\n",
    "\n",
    "        for w in graph.get(v, []):\n",
    "            if w not in indices:\n",
    "                strongconnect(w)\n",
    "                lowlink[v] = min(lowlink[v], lowlink[w])\n",
    "            elif w in on_stack:\n",
    "                lowlink[v] = min(lowlink[v], indices[w])\n",
    "\n",
    "        if lowlink[v] == indices[v]:\n",
    "            # 找到一个强连通分量\n",
    "            scc = []\n",
    "            while True:\n",
    "                w = stack.pop()\n",
    "                on_stack.remove(w)\n",
    "                scc.append(w)\n",
    "                if w == v:\n",
    "                    break\n",
    "            result.append(scc)\n",
    "\n",
    "    for v in graph:\n",
    "        if v not in indices:\n",
    "            strongconnect(v)\n",
    "\n",
    "    return result\n",
    "\n",
    "\n",
    "graph = {\n",
    "    1: [10],\n",
    "    2: [6],\n",
    "    3: [4, 7],\n",
    "    4: [1],\n",
    "    5: [6],\n",
    "    6: [3],\n",
    "    7: [9],\n",
    "    8: [9, 10],\n",
    "    9: [8],\n",
    "    10: [1]\n",
    "}\n",
    "\n",
    "sccs = tarjans_scc(graph)\n",
    "print(\"强连通分量：\")\n",
    "for i, component in enumerate(sccs, 1):\n",
    "    print(f\"分量 {i}: {component}\")\n"
   ],
   "id": "2311a242264ca7aa",
   "outputs": [
    {
     "name": "stdout",
     "output_type": "stream",
     "text": [
      "强连通分量：\n",
      "分量 1: [10, 1]\n",
      "分量 2: [4]\n",
      "分量 3: [8, 9]\n",
      "分量 4: [7]\n",
      "分量 5: [3]\n",
      "分量 6: [6]\n",
      "分量 7: [2]\n",
      "分量 8: [5]\n"
     ]
    }
   ],
   "execution_count": 5
  },
  {
   "metadata": {},
   "cell_type": "code",
   "outputs": [],
   "execution_count": null,
   "source": "",
   "id": "985fecc87a64c5cb"
  }
 ],
 "metadata": {
  "kernelspec": {
   "display_name": "Python 3",
   "language": "python",
   "name": "python3"
  },
  "language_info": {
   "codemirror_mode": {
    "name": "ipython",
    "version": 2
   },
   "file_extension": ".py",
   "mimetype": "text/x-python",
   "name": "python",
   "nbconvert_exporter": "python",
   "pygments_lexer": "ipython2",
   "version": "2.7.6"
  }
 },
 "nbformat": 4,
 "nbformat_minor": 5
}
