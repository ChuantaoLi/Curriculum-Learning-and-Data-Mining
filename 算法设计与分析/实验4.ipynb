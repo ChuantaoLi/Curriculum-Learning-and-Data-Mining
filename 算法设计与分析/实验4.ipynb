{
 "cells": [
  {
   "cell_type": "code",
   "id": "initial_id",
   "metadata": {
    "collapsed": true,
    "ExecuteTime": {
     "end_time": "2025-04-08T02:36:30.394840Z",
     "start_time": "2025-04-08T02:36:30.383810Z"
    }
   },
   "source": [
    "def max_meetings(A, B):\n",
    "    A_sorted = sorted(A)\n",
    "    B_sorted = sorted(B)\n",
    "\n",
    "    i = j = count = 0\n",
    "    while i < len(A_sorted) and j < len(B_sorted):\n",
    "        if A_sorted[i] <= B_sorted[j]:\n",
    "            count += 1\n",
    "            i += 1\n",
    "            j += 1\n",
    "        else:\n",
    "            j += 1\n",
    "    return count\n",
    "\n",
    "\n",
    "student_id = \"202211672411\"\n",
    "A = [int(digit) for digit in student_id if digit != '0']\n",
    "B_digits = [int(digit) for digit in str(int(student_id) // 2) if digit != '0']\n",
    "B = B_digits[:len(A)] if len(B_digits) > len(A) else B_digits + [1] * (len(A) - len(B_digits))  # 补齐长度\n",
    "\n",
    "print(\"A:\", A)\n",
    "print(\"B:\", B)\n",
    "\n",
    "max_meetings_count = max_meetings(A, B)\n",
    "print(\"最多可以同时举办的会议数量:\", max_meetings_count)"
   ],
   "outputs": [
    {
     "name": "stdout",
     "output_type": "stream",
     "text": [
      "A: [2, 2, 2, 1, 1, 6, 7, 2, 4, 1, 1]\n",
      "B: [1, 1, 1, 5, 8, 3, 6, 2, 5, 1, 1]\n",
      "最多可以同时举办的会议数量: 10\n"
     ]
    }
   ],
   "execution_count": 2
  },
  {
   "metadata": {
    "ExecuteTime": {
     "end_time": "2025-04-08T02:45:12.052861Z",
     "start_time": "2025-04-08T02:45:12.042243Z"
    }
   },
   "cell_type": "code",
   "source": [
    "import heapq\n",
    "\n",
    "\n",
    "def generate_jobs(n, student_id=\"202211672411\"):\n",
    "    digits = [int(d) for d in student_id if d != '0']\n",
    "    jobs = digits * (n // len(digits)) + digits[:n % len(digits)]\n",
    "    return jobs\n",
    "\n",
    "\n",
    "def schedule_jobs(jobs, m=5):\n",
    "    jobs_sorted = sorted(jobs, reverse=True)\n",
    "    machines = [0] * m\n",
    "    heapq.heapify(machines)\n",
    "\n",
    "    for job in jobs_sorted:\n",
    "        earliest_machine = heapq.heappop(machines)\n",
    "        heapq.heappush(machines, earliest_machine + job)\n",
    "\n",
    "    makespan = max(machines)\n",
    "    return makespan, machines\n",
    "\n",
    "\n",
    "n = 15\n",
    "jobs = generate_jobs(n)\n",
    "print(\"作业处理时间:\", jobs)\n",
    "\n",
    "makespan, machine_loads = schedule_jobs(jobs)\n",
    "print(\"最大完成时间:\", makespan)\n",
    "print(\"各机器负载:\", machine_loads)"
   ],
   "id": "eabe1795cd10d06d",
   "outputs": [
    {
     "name": "stdout",
     "output_type": "stream",
     "text": [
      "作业处理时间: [2, 2, 2, 1, 1, 6, 7, 2, 4, 1, 1, 2, 2, 2, 1]\n",
      "最大完成时间: 8\n",
      "各机器负载: [7, 7, 7, 7, 8]\n"
     ]
    }
   ],
   "execution_count": 3
  },
  {
   "metadata": {
    "ExecuteTime": {
     "end_time": "2025-04-08T02:54:18.748493Z",
     "start_time": "2025-04-08T02:54:18.734379Z"
    }
   },
   "cell_type": "code",
   "source": [
    "class Node:\n",
    "    def __init__(self, char=None, freq=0, left=None, right=None):\n",
    "        self.char = char  # 字符（仅叶子节点有）\n",
    "        self.freq = freq  # 频数\n",
    "        self.left = left  # 左子节点\n",
    "        self.right = right  # 右子节点\n",
    "\n",
    "    def __lt__(self, other):\n",
    "        return self.freq < other.freq  # 用于优先队列比较\n",
    "\n",
    "\n",
    "def generate_codes(root, current_code=\"\", code_dict=None):\n",
    "    if code_dict is None:\n",
    "        code_dict = {}\n",
    "\n",
    "    if root.char is not None:  # 叶子节点\n",
    "        code_dict[root.char] = current_code\n",
    "    else:  # 内部节点\n",
    "        generate_codes(root.left, current_code + \"0\", code_dict)\n",
    "        generate_codes(root.right, current_code + \"1\", code_dict)\n",
    "\n",
    "    return code_dict\n",
    "\n",
    "\n",
    "def build_huffman_tree(freq_dict):\n",
    "    # 创建优先队列\n",
    "    heap = []\n",
    "    for char, freq in freq_dict.items():\n",
    "        heapq.heappush(heap, Node(char=char, freq=freq))\n",
    "\n",
    "    # 合并节点直到只剩一个根节点\n",
    "    while len(heap) > 1:\n",
    "        left = heapq.heappop(heap)\n",
    "        right = heapq.heappop(heap)\n",
    "        merged = Node(freq=left.freq + right.freq, left=left, right=right)\n",
    "        heapq.heappush(heap, merged)\n",
    "\n",
    "    return heapq.heappop(heap)\n",
    "\n",
    "\n",
    "freq = {\n",
    "    'a': 45,\n",
    "    'b': 55,\n",
    "    'c': 30,\n",
    "    'd': 20,\n",
    "    'e': 15\n",
    "}\n",
    "\n",
    "huffman_tree = build_huffman_tree(freq)\n",
    "huffman_codes = generate_codes(huffman_tree)\n",
    "print(\"字符 | 频数 | 哈夫曼编码\")\n",
    "print(\"----------------------\")\n",
    "for char, code in sorted(huffman_codes.items(), key=lambda x: len(x[1])):\n",
    "    print(f\"{char:^4} | {freq[char]:^4} | {code}\")"
   ],
   "id": "d169149f95d17d88",
   "outputs": [
    {
     "name": "stdout",
     "output_type": "stream",
     "text": [
      "字符 | 频数 | 哈夫曼编码\n",
      "----------------------\n",
      " c   |  30  | 00\n",
      " a   |  45  | 10\n",
      " b   |  55  | 11\n",
      " e   |  15  | 010\n",
      " d   |  20  | 011\n"
     ]
    }
   ],
   "execution_count": 6
  },
  {
   "metadata": {},
   "cell_type": "code",
   "outputs": [],
   "execution_count": null,
   "source": "",
   "id": "3bb555cc17554a7d"
  }
 ],
 "metadata": {
  "kernelspec": {
   "display_name": "Python 3",
   "language": "python",
   "name": "python3"
  },
  "language_info": {
   "codemirror_mode": {
    "name": "ipython",
    "version": 2
   },
   "file_extension": ".py",
   "mimetype": "text/x-python",
   "name": "python",
   "nbconvert_exporter": "python",
   "pygments_lexer": "ipython2",
   "version": "2.7.6"
  }
 },
 "nbformat": 4,
 "nbformat_minor": 5
}
