{
 "cells": [
  {
   "cell_type": "code",
   "id": "initial_id",
   "metadata": {
    "collapsed": true,
    "ExecuteTime": {
     "end_time": "2025-04-07T13:23:08.172506Z",
     "start_time": "2025-04-07T13:23:08.164816Z"
    }
   },
   "source": [
    "import random\n",
    "\n",
    "\n",
    "def find_min_subset(nums, target):\n",
    "    # 动态规划: dp[i][j]表示前i个元素中达到和j所需的最小元素数\n",
    "    dp = [[float('inf')] * (target + 1) for _ in range(len(nums) + 1)]  # 初始化\n",
    "    dp[0][0] = 0  # 和为0需要0个元素\n",
    "\n",
    "    for i in range(1, len(nums) + 1):  # i 从 1 开始遍历\n",
    "        for j in range(target + 1):  # j 从 0 到 target\n",
    "            if nums[i - 1] > j:  # 遍历每个数，因为是从 1 开始，所以要减去 1\n",
    "                dp[i][j] = dp[i - 1][j]  # 如果当前数大于 j，则不能选这个数，因为选了就会超过 j\n",
    "            else:\n",
    "                dp[i][j] = min(dp[i - 1][j], dp[i - 1][j - nums[i - 1]] + 1)\n",
    "                # dp[i-1][j]：不选 nums[i-1]，直接用前 i-1 个数凑 j。\n",
    "                # dp[i-1][j - nums[i-1]] + 1：选 nums[i-1]，那么剩下的和是 j - nums[i-1]，用前 i-1 个数凑这个和，再加 1（因为选了 nums[i-1]）。\n",
    "\n",
    "    # 回溯找出选择的元素\n",
    "    if dp[len(nums)][target] == float('inf'):\n",
    "        return None, None\n",
    "\n",
    "    res = []\n",
    "    i, j = len(nums), target\n",
    "    while i > 0 and j > 0:\n",
    "        if dp[i][j] != dp[i - 1][j]:\n",
    "            res.append(nums[i - 1])\n",
    "            j -= nums[i - 1]\n",
    "        i -= 1\n",
    "\n",
    "    return dp[len(nums)][target], res[::-1]\n",
    "\n",
    "\n",
    "random.seed(202211672411)\n",
    "n = 20  # 数组长度\n",
    "nums = [random.randint(1, 100) for _ in range(n)]  # 随机数组\n",
    "target = random.randint(1, sum(nums))  # 随机目标和\n",
    "\n",
    "print(\"随机数组:\", nums)\n",
    "print(\"随机目标和:\", target)\n",
    "\n",
    "count, result = find_min_subset(nums, target)\n",
    "\n",
    "if count is not None:\n",
    "    print(f\"最少需要 {count} 个元素\")\n",
    "    print(\"选择的元素:\", count)\n",
    "else:\n",
    "    print(\"没有找到满足条件的子集\")"
   ],
   "outputs": [
    {
     "name": "stdout",
     "output_type": "stream",
     "text": [
      "随机数组: [87, 58, 35, 86, 85, 89, 89, 52, 90, 20, 29, 8, 63, 90, 82, 11, 68, 27, 28, 4]\n",
      "随机目标和: 69\n",
      "最少需要 2 个元素\n",
      "选择的元素: 2\n"
     ]
    }
   ],
   "execution_count": 3
  },
  {
   "metadata": {
    "ExecuteTime": {
     "end_time": "2025-04-07T13:43:29.444411Z",
     "start_time": "2025-04-07T13:43:29.434575Z"
    }
   },
   "cell_type": "code",
   "source": [
    "from itertools import permutations\n",
    "\n",
    "\n",
    "def unique_permutations(elements):\n",
    "    # 生成所有可能的排列\n",
    "    all_perms = permutations(elements)\n",
    "    # 使用set去重\n",
    "    unique_perms = set(all_perms)\n",
    "    # 转换为列表并排序\n",
    "    sorted_perms = sorted(unique_perms)\n",
    "    return sorted_perms\n",
    "\n",
    "\n",
    "nums = [0, 0, 1, 1, 2]\n",
    "result = unique_permutations(nums)\n",
    "for perm in result:\n",
    "    print(perm)\n",
    "print(f'共有{len(result)}种排列')"
   ],
   "id": "a62cced49fc315f2",
   "outputs": [
    {
     "name": "stdout",
     "output_type": "stream",
     "text": [
      "(0, 0, 1, 1, 2)\n",
      "(0, 0, 1, 2, 1)\n",
      "(0, 0, 2, 1, 1)\n",
      "(0, 1, 0, 1, 2)\n",
      "(0, 1, 0, 2, 1)\n",
      "(0, 1, 1, 0, 2)\n",
      "(0, 1, 1, 2, 0)\n",
      "(0, 1, 2, 0, 1)\n",
      "(0, 1, 2, 1, 0)\n",
      "(0, 2, 0, 1, 1)\n",
      "(0, 2, 1, 0, 1)\n",
      "(0, 2, 1, 1, 0)\n",
      "(1, 0, 0, 1, 2)\n",
      "(1, 0, 0, 2, 1)\n",
      "(1, 0, 1, 0, 2)\n",
      "(1, 0, 1, 2, 0)\n",
      "(1, 0, 2, 0, 1)\n",
      "(1, 0, 2, 1, 0)\n",
      "(1, 1, 0, 0, 2)\n",
      "(1, 1, 0, 2, 0)\n",
      "(1, 1, 2, 0, 0)\n",
      "(1, 2, 0, 0, 1)\n",
      "(1, 2, 0, 1, 0)\n",
      "(1, 2, 1, 0, 0)\n",
      "(2, 0, 0, 1, 1)\n",
      "(2, 0, 1, 0, 1)\n",
      "(2, 0, 1, 1, 0)\n",
      "(2, 1, 0, 0, 1)\n",
      "(2, 1, 0, 1, 0)\n",
      "(2, 1, 1, 0, 0)\n",
      "共有30种排列\n"
     ]
    }
   ],
   "execution_count": 7
  },
  {
   "metadata": {},
   "cell_type": "code",
   "outputs": [],
   "execution_count": null,
   "source": "",
   "id": "5626602ddd7c90d8"
  }
 ],
 "metadata": {
  "kernelspec": {
   "display_name": "Python 3",
   "language": "python",
   "name": "python3"
  },
  "language_info": {
   "codemirror_mode": {
    "name": "ipython",
    "version": 2
   },
   "file_extension": ".py",
   "mimetype": "text/x-python",
   "name": "python",
   "nbconvert_exporter": "python",
   "pygments_lexer": "ipython2",
   "version": "2.7.6"
  }
 },
 "nbformat": 4,
 "nbformat_minor": 5
}
