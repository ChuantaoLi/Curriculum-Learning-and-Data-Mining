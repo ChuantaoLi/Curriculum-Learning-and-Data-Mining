{
 "cells": [
  {
   "cell_type": "code",
   "id": "initial_id",
   "metadata": {
    "collapsed": true,
    "ExecuteTime": {
     "end_time": "2025-04-22T02:06:05.361274Z",
     "start_time": "2025-04-22T02:06:05.351708Z"
    }
   },
   "source": [
    "'''优先队例求出一个无序整数序列中的第k小的元素'''\n",
    "import heapq\n",
    "import random\n",
    "\n",
    "\n",
    "def find_kth_smallest(arr, k):\n",
    "    if k <= 0 or k > len(arr):\n",
    "        return None\n",
    "    heap = []\n",
    "    for num in arr:\n",
    "        if len(heap) < k:  # 如果最大堆的长度小于k，直接添加\n",
    "            heapq.heappush(heap, -num)  # heapq默认最小堆，取负数变成最大堆\n",
    "        else:\n",
    "            if num < -heap[0]:  # 如果新来的元素比堆顶元素更小\n",
    "                heapq.heappop(heap)  # 踢出原来的堆顶\n",
    "                heapq.heappush(heap, -num)  # 加入新元素，heapq自动调整大小，堆顶永远最大\n",
    "    return -heap[0]\n",
    "\n",
    "\n",
    "seed = 202211672411\n",
    "random.seed(seed)\n",
    "\n",
    "n = 10\n",
    "arr = [random.randint(1, 100) for _ in range(n)]\n",
    "print(\"生成的数组:\", arr)\n",
    "\n",
    "for k in range(1, 6):\n",
    "    sorted_arr = sorted(arr)\n",
    "    expected = sorted_arr[k - 1] if k <= len(arr) else None\n",
    "    result = find_kth_smallest(arr, k)\n",
    "    print(f\"\\n排序后的数组: {sorted_arr}\")\n",
    "    print(f\"第{k}小的元素: {result}\")"
   ],
   "outputs": [
    {
     "name": "stdout",
     "output_type": "stream",
     "text": [
      "生成的数组: [87, 58, 35, 86, 85, 89, 89, 52, 90, 20]\n",
      "\n",
      "排序后的数组: [20, 35, 52, 58, 85, 86, 87, 89, 89, 90]\n",
      "第1小的元素: 20\n",
      "\n",
      "排序后的数组: [20, 35, 52, 58, 85, 86, 87, 89, 89, 90]\n",
      "第2小的元素: 35\n",
      "\n",
      "排序后的数组: [20, 35, 52, 58, 85, 86, 87, 89, 89, 90]\n",
      "第3小的元素: 52\n",
      "\n",
      "排序后的数组: [20, 35, 52, 58, 85, 86, 87, 89, 89, 90]\n",
      "第4小的元素: 58\n",
      "\n",
      "排序后的数组: [20, 35, 52, 58, 85, 86, 87, 89, 89, 90]\n",
      "第5小的元素: 85\n"
     ]
    }
   ],
   "execution_count": 1
  },
  {
   "metadata": {
    "ExecuteTime": {
     "end_time": "2025-04-22T01:32:10.735653Z",
     "start_time": "2025-04-22T01:32:10.724160Z"
    }
   },
   "cell_type": "code",
   "source": [
    "'''动态数组+哈希'''\n",
    "\n",
    "\n",
    "class EfficientDataStructure:\n",
    "    def __init__(self):\n",
    "        self.array = []  # 动态数组存储元素\n",
    "        # 动态数组在初始化时不需要指定固定大小，而是在插入元素时自动扩展容量。Python中的列表就是一种典型的动态数组\n",
    "        self.value_to_index = {}  # 哈希表：值 → 数组索引\n",
    "\n",
    "    def insert(self, value):\n",
    "        \"\"\"插入元素\"\"\"\n",
    "        if value in self.value_to_index:  # 如果要插入的元素在字典里面了，为了不重复，不插入\n",
    "            return False\n",
    "        self.array.append(value)  # 没有重复就插入动态数组\n",
    "        self.value_to_index[value] = len(self.array) - 1  # 字典的键是元素，值是在动态数组中的索引\n",
    "        return True\n",
    "\n",
    "    def delete(self, value):\n",
    "        \"\"\"删除元素\"\"\"\n",
    "        if value not in self.value_to_index:  # 如果字典的键中不存在这个元素，即动态数组中没有这个元素\n",
    "            return False  # 那就删除不了\n",
    "        index = self.value_to_index[value]  # 否则先从字典中找个要删除元素的索引\n",
    "        last_val = self.array[-1]  # 获取数组末尾元素\n",
    "\n",
    "        # 交换待删除元素与末尾元素\n",
    "        self.array[index], self.array[-1] = self.array[-1], self.array[index]\n",
    "        self.value_to_index[last_val] = index\n",
    "\n",
    "        # 交换后删除的时间复杂度是O(1)，不然后面的元素都要向前面移动\n",
    "        self.array.pop()\n",
    "        del self.value_to_index[value]  # 因为待删除的元素已经在最后，且pop出去了，所以不需要更新字典\n",
    "        return True\n",
    "\n",
    "    def get_by_value(self, value):\n",
    "        \"\"\"按值查找是否存在\"\"\"\n",
    "        return value in self.value_to_index\n",
    "\n",
    "    def get_by_index(self, index):\n",
    "        \"\"\"按序号查找元素\"\"\"\n",
    "        if index < 0 or index >= len(self.array):\n",
    "            return None\n",
    "        return self.array[index]  # 直接通过字典进行查找\n",
    "\n",
    "    def size(self):\n",
    "        return len(self.array)\n",
    "\n",
    "\n",
    "def generate_test_data(data_type='int', size=1000, seed=202211672411):\n",
    "    \"\"\"生成测试数据集\"\"\"\n",
    "    random.seed(seed)\n",
    "    data = set()\n",
    "\n",
    "    if data_type == 'int':\n",
    "        # 生成唯一随机整数\n",
    "        while len(data) < size - 1:\n",
    "            data.add(random.randint(0, 10 ** 12))\n",
    "        # 添加学号\n",
    "        student_id = 202211672411\n",
    "        data.add(student_id)\n",
    "    else:\n",
    "        while len(data) < size - 1:\n",
    "            s = ''.join(random.choices('abcdefghijklmnopqrstuvwxyz', k=10))\n",
    "            data.add(s)\n",
    "        # 添加姓名拼音\n",
    "        data.add(\"LiChuanTao\")\n",
    "\n",
    "    return list(data)\n",
    "\n",
    "\n",
    "# 测试示例\n",
    "if __name__ == \"__main__\":\n",
    "    test_data = generate_test_data(data_type='int', size=1000)  # 生成1000个各不相同的整数\n",
    "\n",
    "    # 初始化数据结构\n",
    "    ds = EfficientDataStructure()\n",
    "    for num in test_data:\n",
    "        ds.insert(num)\n",
    "\n",
    "    # 按值查找\n",
    "    student_id = 202211672411\n",
    "    print(f\"黎川滔的学号 {student_id} 是否在数组中？\", ds.get_by_value(student_id))\n",
    "\n",
    "    # 按序号查找\n",
    "    print(\"数组中索引为 0 的元素：\", ds.get_by_index(0))\n",
    "\n",
    "    # 删除元素\n",
    "    ds.delete(student_id)\n",
    "    print(\"删除黎川滔学号后数组的大小\", ds.size())\n",
    "    print(f\"黎川滔的学号 {student_id} 在删除后是否还存在？\", ds.get_by_value(student_id))"
   ],
   "id": "e17eeca4ab031811",
   "outputs": [
    {
     "name": "stdout",
     "output_type": "stream",
     "text": [
      "黎川滔的学号 202211672411 是否在数组中？ True\n",
      "数组中索引为 0 的元素： 222225760264\n",
      "删除黎川滔学号后数组的大小 999\n",
      "黎川滔的学号 202211672411 在删除后是否还存在？ False\n"
     ]
    }
   ],
   "execution_count": 2
  },
  {
   "metadata": {
    "ExecuteTime": {
     "end_time": "2025-04-22T01:50:01.894790Z",
     "start_time": "2025-04-22T01:50:01.882131Z"
    }
   },
   "cell_type": "code",
   "source": [
    "'''线性探测'''\n",
    "\n",
    "\n",
    "class HashTable:\n",
    "    def __init__(self, size):\n",
    "        self.size = size  # 哈希表的大小\n",
    "        self.table = [None] * size  # 初始化哈希表，所有位置为空\n",
    "\n",
    "    def hash_function(self, key):\n",
    "        \"\"\"哈希函数：计算键的哈希值\"\"\"\n",
    "        return key % self.size\n",
    "\n",
    "    def insert(self, key, value):\n",
    "        \"\"\"插入键值对到哈希表中\"\"\"\n",
    "        index = self.hash_function(key)  # 计算初始索引\n",
    "        while self.table[index] is not None:  # 如果当前位置被占用\n",
    "            if self.table[index][0] == key:  # 如果键已存在，更新值\n",
    "                self.table[index] = (key, value)\n",
    "                return\n",
    "            index = (index + 1) % self.size  # 线性探测：检查下一个位置\n",
    "        self.table[index] = (key, value)  # 找到空闲位置，插入键值对\n",
    "\n",
    "    def search(self, key):\n",
    "        \"\"\"查找键对应的值\"\"\"\n",
    "        index = self.hash_function(key)  # 计算初始索引\n",
    "        while self.table[index] is not None:  # 如果当前位置被占用\n",
    "            if self.table[index][0] == key:  # 如果找到键\n",
    "                return self.table[index][1]  # 返回对应的值\n",
    "            index = (index + 1) % self.size  # 线性探测：检查下一个位置\n",
    "        return None  # 未找到键\n",
    "\n",
    "    def delete(self, key):\n",
    "        \"\"\"删除键值对\"\"\"\n",
    "        index = self.hash_function(key)  # 计算初始索引\n",
    "        while self.table[index] is not None:  # 如果当前位置被占用\n",
    "            if self.table[index][0] == key:  # 如果找到键\n",
    "                self.table[index] = None  # 删除键值对\n",
    "                self.rehash(index)  # 重新哈希后续的键值对\n",
    "                return\n",
    "            index = (index + 1) % self.size  # 线性探测：检查下一个位置\n",
    "\n",
    "    def rehash(self, start_index):\n",
    "        \"\"\"重新哈希从 start_index 开始的所有键值对\"\"\"\n",
    "        index = (start_index + 1) % self.size  # 从下一个位置开始\n",
    "        while self.table[index] is not None:  # 如果当前位置被占用\n",
    "            key, value = self.table[index]  # 获取键值对\n",
    "            self.table[index] = None  # 清空当前位置\n",
    "            self.insert(key, value)  # 重新插入键值对\n",
    "            index = (index + 1) % self.size  # 检查下一个位置\n",
    "\n",
    "    def __str__(self):\n",
    "        \"\"\"打印哈希表内容\"\"\"\n",
    "        return \"\\n\".join(f\"Index {i}: {self.table[i]}\" for i in range(self.size))\n",
    "\n",
    "if __name__ == \"__main__\":\n",
    "    ht = HashTable(10)  # 创建大小为 10 的哈希表\n",
    "\n",
    "    # 插入键值对\n",
    "    ht.insert(10, \"A\")\n",
    "    ht.insert(20, \"B\")\n",
    "    ht.insert(30, \"C\")\n",
    "    ht.insert(15, \"D\")  # 哈希冲突，使用线性探测\n",
    "    print(\"哈希表内容：\")\n",
    "    print(ht)\n",
    "\n",
    "    # 查找键\n",
    "    print(\"\\n查找键 20 的值：\", ht.search(20))\n",
    "    print(\"查找键 15 的值：\", ht.search(15))\n",
    "\n",
    "    # 删除键\n",
    "    ht.delete(20)\n",
    "    print(\"\\n删除键 20 后的哈希表内容：\")\n",
    "    print(ht)"
   ],
   "id": "74b9a522cce0cc7c",
   "outputs": [
    {
     "name": "stdout",
     "output_type": "stream",
     "text": [
      "哈希表内容：\n",
      "Index 0: (10, 'A')\n",
      "Index 1: (20, 'B')\n",
      "Index 2: (30, 'C')\n",
      "Index 3: None\n",
      "Index 4: None\n",
      "Index 5: (15, 'D')\n",
      "Index 6: None\n",
      "Index 7: None\n",
      "Index 8: None\n",
      "Index 9: None\n",
      "\n",
      "查找键 20 的值： B\n",
      "查找键 15 的值： D\n",
      "\n",
      "删除键 20 后的哈希表内容：\n",
      "Index 0: (10, 'A')\n",
      "Index 1: (30, 'C')\n",
      "Index 2: None\n",
      "Index 3: None\n",
      "Index 4: None\n",
      "Index 5: (15, 'D')\n",
      "Index 6: None\n",
      "Index 7: None\n",
      "Index 8: None\n",
      "Index 9: None\n"
     ]
    }
   ],
   "execution_count": 4
  },
  {
   "metadata": {
    "ExecuteTime": {
     "end_time": "2025-03-18T06:29:41.589888Z",
     "start_time": "2025-03-18T06:29:41.119887Z"
    }
   },
   "cell_type": "code",
   "source": [
    "'''基数排序'''\n",
    "import random\n",
    "\n",
    "\n",
    "def generate_student_ids(num_students=50000):\n",
    "    \"\"\"生成指定数量的学生学号\"\"\"\n",
    "    student_ids = []\n",
    "    for _ in range(num_students):\n",
    "        year = random.randint(2020, 2023)  # 入学年份：2020-2023\n",
    "        dept = random.randint(1000, 9999)  # 学院与专业：1000-9999\n",
    "        class_num = random.randint(1, 3)  # 班级序号：1-3\n",
    "        student_num = random.randint(1, 99)  # 班级内部学号：1-99\n",
    "        # 格式化学号：入学年份（4位） + 学院与专业（4位） + 班级序号（2位） + 班级内部学号（2位）\n",
    "        student_id = f\"{year}{dept:04d}{class_num:02d}{student_num:02d}\"\n",
    "        student_ids.append(student_id)\n",
    "    return student_ids\n",
    "\n",
    "\n",
    "def radix_sort(arr):\n",
    "    \"\"\"基数排序\"\"\"\n",
    "    max_length = len(max(arr, key=len))  # 获取最长学号的长度\n",
    "    for i in range(max_length - 1, -1, -1):  # 从最低位到最高位依次排序\n",
    "        buckets = [[] for _ in range(10)]  # 初始化10个桶（0-9）\n",
    "        for num in arr:\n",
    "            # 获取当前位的数字，如果不足则补0\n",
    "            digit = int(num[i]) if i < len(num) else 0\n",
    "            buckets[digit].append(num)  # 将数字放入对应的桶中\n",
    "        arr = [num for bucket in buckets for num in bucket]  # 将桶中的数字按顺序合并\n",
    "    return arr\n",
    "\n",
    "\n",
    "# 测试代码\n",
    "if __name__ == \"__main__\":\n",
    "    # 生成50000个学生学号\n",
    "    student_ids = generate_student_ids(50000)\n",
    "    print(\"前10个未排序的学号：\", student_ids[:10])\n",
    "\n",
    "    # 基数排序\n",
    "    sorted_student_ids = radix_sort(student_ids)\n",
    "    print(\"\\n前10个排序后的学号：\", sorted_student_ids[:10])\n",
    "\n",
    "    # 检查是否有序\n",
    "    is_sorted = all(sorted_student_ids[i] <= sorted_student_ids[i + 1] for i in range(len(sorted_student_ids) - 1))\n",
    "    print(\"\\n学号是否有序：\", is_sorted)"
   ],
   "id": "16f7f3f5b44426e8",
   "outputs": [
    {
     "name": "stdout",
     "output_type": "stream",
     "text": [
      "前10个未排序的学号： ['202265780118', '202344260133', '202096380286', '202372880330', '202062710219', '202228530276', '202029580158', '202274100304', '202398020376', '202394850124']\n",
      "\n",
      "前10个排序后的学号： ['202010000395', '202010010149', '202010010178', '202010010294', '202010020125', '202010020271', '202010030282', '202010040178', '202010040254', '202010040277']\n",
      "\n",
      "学号是否有序： True\n"
     ]
    }
   ],
   "execution_count": 2
  },
  {
   "metadata": {
    "ExecuteTime": {
     "end_time": "2025-03-26T12:51:25.049045Z",
     "start_time": "2025-03-26T12:51:25.041456Z"
    }
   },
   "cell_type": "code",
   "source": [
    "nums = [3, 2, 2, 3]\n",
    "val = 3\n",
    "nums = [x for x in nums if x != val]\n",
    "print(len(nums))\n",
    "print(nums)"
   ],
   "id": "23d54de05918c58f",
   "outputs": [
    {
     "name": "stdout",
     "output_type": "stream",
     "text": [
      "2\n",
      "[2, 2]\n"
     ]
    }
   ],
   "execution_count": 1
  },
  {
   "metadata": {
    "ExecuteTime": {
     "end_time": "2025-03-26T12:52:51.077901Z",
     "start_time": "2025-03-26T12:52:51.069554Z"
    }
   },
   "cell_type": "code",
   "source": "",
   "id": "a61dde245efeff85",
   "outputs": [
    {
     "name": "stdout",
     "output_type": "stream",
     "text": [
      "25\n"
     ]
    }
   ],
   "execution_count": 6
  },
  {
   "metadata": {},
   "cell_type": "code",
   "outputs": [],
   "execution_count": null,
   "source": "",
   "id": "6cad088e1fb90f09"
  }
 ],
 "metadata": {
  "kernelspec": {
   "display_name": "Python 3",
   "language": "python",
   "name": "python3"
  },
  "language_info": {
   "codemirror_mode": {
    "name": "ipython",
    "version": 2
   },
   "file_extension": ".py",
   "mimetype": "text/x-python",
   "name": "python",
   "nbconvert_exporter": "python",
   "pygments_lexer": "ipython2",
   "version": "2.7.6"
  }
 },
 "nbformat": 4,
 "nbformat_minor": 5
}
