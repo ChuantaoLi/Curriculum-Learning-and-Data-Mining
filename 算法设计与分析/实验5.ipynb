{
 "cells": [
  {
   "cell_type": "code",
   "id": "initial_id",
   "metadata": {
    "collapsed": true,
    "ExecuteTime": {
     "end_time": "2025-04-15T02:39:11.635930Z",
     "start_time": "2025-04-15T02:39:11.618430Z"
    }
   },
   "source": [
    "def knapsack_memo(n, p, v, C):\n",
    "    memo = [[-1] * (C + 1) for _ in range(n + 1)]\n",
    "    rec = [[0] * (C + 1) for _ in range(n + 1)]\n",
    "\n",
    "    def dp(i, c):\n",
    "        if i == 0 or c == 0:\n",
    "            return 0\n",
    "        if memo[i][c] != -1:\n",
    "            return memo[i][c]\n",
    "\n",
    "        if v[i - 1] <= c:\n",
    "            include = p[i - 1] + dp(i - 1, c - v[i - 1])\n",
    "            exclude = dp(i - 1, c)\n",
    "            if include > exclude:\n",
    "                rec[i][c] = 1\n",
    "                memo[i][c] = include\n",
    "            else:\n",
    "                memo[i][c] = exclude\n",
    "        else:\n",
    "            memo[i][c] = dp(i - 1, c)\n",
    "        return memo[i][c]\n",
    "\n",
    "    max_value = dp(n, C)\n",
    "\n",
    "    res = []\n",
    "    k = C\n",
    "    for i in range(n, 0, -1):\n",
    "        if rec[i][k] == 1:\n",
    "            res.append(i)\n",
    "            k -= v[i - 1]\n",
    "    res.reverse()\n",
    "\n",
    "    return max_value, res\n",
    "\n",
    "\n",
    "n = 5\n",
    "v = [2, 2, 6, 5, 4]\n",
    "p = [6, 3, 5, 4, 6]\n",
    "C = 10\n",
    "max_val, items = knapsack_memo(n, p, v, C)\n",
    "print(f\"测试1 - 最大价值: {max_val}, 选择商品: {items}\")\n",
    "\n",
    "n2 = 4\n",
    "v2 = [3, 4, 2, 5]\n",
    "p2 = [4, 5, 3, 6]\n",
    "C2 = 8\n",
    "max_val2, items2 = knapsack_memo(n2, p2, v2, C2)\n",
    "print(f\"测试2 - 最大价值: {max_val2}, 选择商品: {items2}\")"
   ],
   "outputs": [
    {
     "name": "stdout",
     "output_type": "stream",
     "text": [
      "测试1 - 最大价值: 15, 选择商品: [1, 2, 5]\n",
      "测试2 - 最大价值: 10, 选择商品: [1, 4]\n"
     ]
    }
   ],
   "execution_count": 4
  },
  {
   "metadata": {
    "ExecuteTime": {
     "end_time": "2025-04-15T02:56:23.449512Z",
     "start_time": "2025-04-15T02:56:14.731022Z"
    }
   },
   "cell_type": "code",
   "source": [
    "def min_rent(n, rents):\n",
    "    dp = [float('inf')] * (n + 1)\n",
    "    dp[1] = 0  # 起点租金为0\n",
    "\n",
    "    for i in range(1, n):\n",
    "        for j in range(i + 1, n + 1):\n",
    "            if dp[i] + rents[i - 1][j - i - 1] < dp[j]:\n",
    "                dp[j] = dp[i] + rents[i - 1][j - i - 1]\n",
    "\n",
    "    return dp[n]\n",
    "\n",
    "\n",
    "n = int(input())\n",
    "rents = []\n",
    "for i in range(n - 1):\n",
    "    rents.append(list(map(int, input().split())))\n",
    "\n",
    "print(min_rent(n, rents))"
   ],
   "id": "dcde785aec9c9f35",
   "outputs": [
    {
     "name": "stdout",
     "output_type": "stream",
     "text": [
      "7\n"
     ]
    }
   ],
   "execution_count": 9
  },
  {
   "metadata": {},
   "cell_type": "code",
   "outputs": [],
   "execution_count": null,
   "source": "",
   "id": "7ac389454bdc7a8b"
  }
 ],
 "metadata": {
  "kernelspec": {
   "display_name": "Python 3",
   "language": "python",
   "name": "python3"
  },
  "language_info": {
   "codemirror_mode": {
    "name": "ipython",
    "version": 2
   },
   "file_extension": ".py",
   "mimetype": "text/x-python",
   "name": "python",
   "nbconvert_exporter": "python",
   "pygments_lexer": "ipython2",
   "version": "2.7.6"
  }
 },
 "nbformat": 4,
 "nbformat_minor": 5
}
