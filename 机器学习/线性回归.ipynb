{
 "cells": [
  {
   "cell_type": "code",
   "id": "initial_id",
   "metadata": {
    "ExecuteTime": {
     "end_time": "2025-06-24T13:05:03.405337Z",
     "start_time": "2025-06-24T13:05:01.545854Z"
    }
   },
   "source": [
    "import random\n",
    "import torch"
   ],
   "outputs": [],
   "execution_count": 1
  },
  {
   "cell_type": "code",
   "id": "b69b9f32-ab89-428a-af01-d196e5a7fd9a",
   "metadata": {
    "ExecuteTime": {
     "end_time": "2025-06-24T13:05:03.414907Z",
     "start_time": "2025-06-24T13:05:03.409907Z"
    }
   },
   "source": [
    "# 随机生成数据\n",
    "def synthetic_data(w, b, num_examples):\n",
    "    X = torch.normal(0, 1, (num_examples, len(w)))  # 正态分布生成随机数\n",
    "    y = torch.matmul(X, w) + b  # 矩阵乘法\n",
    "    y += torch.normal(0, 0.01, y.shape)\n",
    "    return X, y.reshape((-1, 1))  # reshape 把一维张量转换成二维列向量"
   ],
   "outputs": [],
   "execution_count": 2
  },
  {
   "cell_type": "code",
   "id": "077c2eaf-0e22-439f-8a09-1a2f807cd1f8",
   "metadata": {
    "ExecuteTime": {
     "end_time": "2025-06-24T13:05:03.483855Z",
     "start_time": "2025-06-24T13:05:03.472687Z"
    }
   },
   "source": [
    "true_w = torch.tensor([2, -3.4])\n",
    "true_b = 4.2\n",
    "features, labels = synthetic_data(true_w, true_b, 1000)"
   ],
   "outputs": [],
   "execution_count": 3
  },
  {
   "cell_type": "code",
   "id": "f39dac79-496f-4a9d-8e0e-198f78196e78",
   "metadata": {
    "ExecuteTime": {
     "end_time": "2025-06-24T13:05:03.514496Z",
     "start_time": "2025-06-24T13:05:03.508979Z"
    }
   },
   "source": [
    "# 获取批量数据\n",
    "def data_iter(batch_size, features, labels):\n",
    "    num_examples = len(features)\n",
    "    indices = list(range(num_examples))\n",
    "    random.shuffle(indices)\n",
    "    for i in range(0, num_examples, batch_size):\n",
    "        batch_indices = torch.tensor(indices[i:min(i + batch_size, num_examples)])\n",
    "        yield features[batch_indices], labels[batch_indices]  # 反复调用反复返回数据"
   ],
   "outputs": [],
   "execution_count": 4
  },
  {
   "cell_type": "code",
   "id": "b47b618c-4652-447b-a339-23bdb67712de",
   "metadata": {
    "ExecuteTime": {
     "end_time": "2025-06-24T13:05:03.555838Z",
     "start_time": "2025-06-24T13:05:03.550361Z"
    }
   },
   "source": [
    "batch_size = 10\n",
    "for X, y in data_iter(batch_size, features, labels):\n",
    "    print(X, '\\n', y)\n",
    "    break"
   ],
   "outputs": [
    {
     "name": "stdout",
     "output_type": "stream",
     "text": [
      "tensor([[-0.8822,  0.0516],\n",
      "        [ 1.3474,  0.6380],\n",
      "        [-1.1746,  0.1782],\n",
      "        [ 1.4144,  0.1014],\n",
      "        [ 0.5482,  0.8050],\n",
      "        [ 0.4950, -1.4595],\n",
      "        [ 1.5748, -0.0922],\n",
      "        [-0.5149,  1.0816],\n",
      "        [ 0.3417,  1.3964],\n",
      "        [-1.5793, -0.0324]]) \n",
      " tensor([[ 2.2598],\n",
      "        [ 4.7257],\n",
      "        [ 1.2292],\n",
      "        [ 6.6858],\n",
      "        [ 2.5644],\n",
      "        [10.1381],\n",
      "        [ 7.6863],\n",
      "        [-0.5146],\n",
      "        [ 0.1171],\n",
      "        [ 1.1498]])\n"
     ]
    }
   ],
   "execution_count": 5
  },
  {
   "cell_type": "code",
   "id": "a92adcd0-268a-4963-9b1a-896ea741031d",
   "metadata": {
    "ExecuteTime": {
     "end_time": "2025-06-24T13:05:03.587089Z",
     "start_time": "2025-06-24T13:05:03.583418Z"
    }
   },
   "source": [
    "# 初始化参数\n",
    "w = torch.normal(0, 0.01, size=(2, 1), requires_grad=True)  # 启用梯度跟踪\n",
    "b = torch.zeros(1, requires_grad=True)"
   ],
   "outputs": [],
   "execution_count": 6
  },
  {
   "cell_type": "code",
   "id": "b69eac6f-daad-498b-b1ea-79297219c751",
   "metadata": {
    "ExecuteTime": {
     "end_time": "2025-06-24T13:05:03.596266Z",
     "start_time": "2025-06-24T13:05:03.592242Z"
    }
   },
   "source": [
    "# 定义线性回归模型\n",
    "def linreg(X, w, b):\n",
    "    return torch.matmul(X, w) + b"
   ],
   "outputs": [],
   "execution_count": 7
  },
  {
   "cell_type": "code",
   "id": "d5288852-b0b4-471e-b6a2-4324ae9477eb",
   "metadata": {
    "ExecuteTime": {
     "end_time": "2025-06-24T13:05:03.620204Z",
     "start_time": "2025-06-24T13:05:03.615797Z"
    }
   },
   "source": [
    "# 定义损失函数\n",
    "def square_loss(y_hat, y):\n",
    "    return (y_hat - y.reshape(y_hat.shape)) ** 2 / 2"
   ],
   "outputs": [],
   "execution_count": 8
  },
  {
   "cell_type": "code",
   "id": "4f5e7539-a752-48bd-98c8-984e1e62a4bf",
   "metadata": {
    "ExecuteTime": {
     "end_time": "2025-06-24T13:05:03.719732Z",
     "start_time": "2025-06-24T13:05:03.715277Z"
    }
   },
   "source": [
    "# 定义优化算法\n",
    "def sgd(params, lr, batch_size):\n",
    "    # 小批量随机梯度下降\n",
    "    with torch.no_grad():  # 禁用梯度计算\n",
    "        for param in params:\n",
    "            param -= lr * param.grad / batch_size  # .grad 会储存张量在反向传播中计算的梯度\n",
    "            param.grad.zero_()  # 清零梯度，pytorch不会自动清零"
   ],
   "outputs": [],
   "execution_count": 9
  },
  {
   "cell_type": "code",
   "id": "2e0f0c23-84ca-49d7-8a3b-cc0e9bfeec78",
   "metadata": {
    "ExecuteTime": {
     "end_time": "2025-06-24T13:05:03.818608Z",
     "start_time": "2025-06-24T13:05:03.739532Z"
    }
   },
   "source": [
    "# 训练过程\n",
    "lr = 0.03\n",
    "num_epochs = 3\n",
    "net = linreg\n",
    "loss = square_loss\n",
    "\n",
    "for epoch in range(num_epochs):\n",
    "    for X, y in data_iter(batch_size, features, labels):\n",
    "        l = loss(net(X, w, b), y)  # 此时并不是一个标量\n",
    "        l.sum().backward()\n",
    "        '''\n",
    "        对这个标量损失进行反向传播，计算所有 requires_grad=True 的参数（w 和 b）的梯度，并存储到它们的 .grad 属性中\n",
    "        梯度计算基于链式法则，从损失函数反向传播到每个参数\n",
    "        '''\n",
    "        sgd([w, b], lr, batch_size)\n",
    "    with torch.no_grad():\n",
    "        train_l = loss(net(features, w, b), labels)\n",
    "        print(f'epoch {epoch + 1}, loss {float(train_l.mean()):f}')"
   ],
   "outputs": [
    {
     "name": "stdout",
     "output_type": "stream",
     "text": [
      "epoch 1, loss 0.036897\n",
      "epoch 2, loss 0.000129\n",
      "epoch 3, loss 0.000049\n"
     ]
    }
   ],
   "execution_count": 10
  },
  {
   "cell_type": "code",
   "id": "58c1391a-97f0-46a1-bfea-e7313792060e",
   "metadata": {
    "ExecuteTime": {
     "end_time": "2025-06-24T13:05:03.857908Z",
     "start_time": "2025-06-24T13:05:03.851521Z"
    }
   },
   "source": [
    "print(f' w 的估计误差: {true_w - w.reshape(true_w.shape)}')\n",
    "print(f' b 的估计误差: {true_b - b}')"
   ],
   "outputs": [
    {
     "name": "stdout",
     "output_type": "stream",
     "text": [
      " w 的估计误差: tensor([0.0015, 0.0003], grad_fn=<SubBackward0>)\n",
      " b 的估计误差: tensor([0.0009], grad_fn=<RsubBackward1>)\n"
     ]
    }
   ],
   "execution_count": 11
  },
  {
   "cell_type": "code",
   "id": "3073ee81-8190-4afd-8e65-abe90f8b29f5",
   "metadata": {
    "ExecuteTime": {
     "end_time": "2025-06-24T13:05:03.890094Z",
     "start_time": "2025-06-24T13:05:03.886203Z"
    }
   },
   "source": [
    "# 线性回归的简洁实现\n",
    "import numpy as np\n",
    "import torch\n",
    "from torch.utils import data"
   ],
   "outputs": [],
   "execution_count": 12
  },
  {
   "cell_type": "code",
   "id": "459a6d3d-2d76-45aa-b8d8-7001b878fd46",
   "metadata": {
    "ExecuteTime": {
     "end_time": "2025-06-24T13:05:03.922670Z",
     "start_time": "2025-06-24T13:05:03.918830Z"
    }
   },
   "source": [
    "true_w = torch.tensor([2, -3.4])\n",
    "true_b = 4.2\n",
    "features, labels = synthetic_data(true_w, true_b, 1000)"
   ],
   "outputs": [],
   "execution_count": 13
  },
  {
   "cell_type": "code",
   "id": "15db326c-09d0-4301-ba7d-bb07b709be29",
   "metadata": {
    "ExecuteTime": {
     "end_time": "2025-06-24T13:05:03.954461Z",
     "start_time": "2025-06-24T13:05:03.951174Z"
    }
   },
   "source": [
    "# 调用框架中现有的 API 来读取数据\n",
    "def load_array(data_arrays, batch_size, is_train=True):\n",
    "    # 构造一个pytorch数据迭代器\n",
    "    dataset = data.TensorDataset(*data_arrays)  # 将传入的数据集转换成 Tensor 形式\n",
    "    return data.DataLoader(dataset, batch_size, shuffle=is_train)  # 随机抽取一些样本"
   ],
   "outputs": [],
   "execution_count": 14
  },
  {
   "cell_type": "code",
   "id": "4cf5ecbb-c6ff-4479-b447-f6410004180c",
   "metadata": {
    "ExecuteTime": {
     "end_time": "2025-06-24T13:05:03.992026Z",
     "start_time": "2025-06-24T13:05:03.983515Z"
    }
   },
   "source": [
    "batch_size = 10\n",
    "data_iter = load_array((features, labels), batch_size)\n",
    "next(iter(data_iter))"
   ],
   "outputs": [
    {
     "data": {
      "text/plain": [
       "[tensor([[ 2.6302, -1.5749],\n",
       "         [-1.0621,  0.3685],\n",
       "         [ 1.4777,  0.8144],\n",
       "         [ 0.3532, -0.9794],\n",
       "         [-2.3617, -0.9761],\n",
       "         [-0.9843,  0.0155],\n",
       "         [ 1.8466,  0.8107],\n",
       "         [-1.3918, -0.5698],\n",
       "         [ 1.0957,  0.6817],\n",
       "         [-0.0581,  1.2857]]),\n",
       " tensor([[14.8155],\n",
       "         [ 0.8256],\n",
       "         [ 4.3872],\n",
       "         [ 8.2313],\n",
       "         [ 2.8038],\n",
       "         [ 2.1724],\n",
       "         [ 5.1408],\n",
       "         [ 3.3504],\n",
       "         [ 4.0927],\n",
       "         [-0.2775]])]"
      ]
     },
     "execution_count": 15,
     "metadata": {},
     "output_type": "execute_result"
    }
   ],
   "execution_count": 15
  },
  {
   "cell_type": "code",
   "id": "21de8c33-3aac-461c-9236-d17bcb00869a",
   "metadata": {
    "ExecuteTime": {
     "end_time": "2025-06-24T13:05:04.028954Z",
     "start_time": "2025-06-24T13:05:04.021441Z"
    }
   },
   "source": [
    "# 使用框架的预定义好的层\n",
    "from torch import nn\n",
    "\n",
    "net = nn.Sequential(nn.Linear(2, 1))\n",
    "# 把包含一个线性层的网络放在 Sequential 容器里面，容器可以放置多个层\n",
    "# 网络的输入特征维度为 2，输出维度为 1"
   ],
   "outputs": [],
   "execution_count": 16
  },
  {
   "cell_type": "code",
   "id": "777ed7fb-1478-477e-85e0-ea0737df3bab",
   "metadata": {
    "ExecuteTime": {
     "end_time": "2025-06-24T13:05:04.065540Z",
     "start_time": "2025-06-24T13:05:04.058116Z"
    }
   },
   "source": [
    "# 初始化模型参数\n",
    "net[0].weight.data.normal_(0, 0.01)\n",
    "net[0].bias.data.fill_(0)"
   ],
   "outputs": [
    {
     "data": {
      "text/plain": [
       "tensor([0.])"
      ]
     },
     "execution_count": 17,
     "metadata": {},
     "output_type": "execute_result"
    }
   ],
   "execution_count": 17
  },
  {
   "cell_type": "code",
   "id": "970f5354-9f63-4900-bf75-f8c3abf93516",
   "metadata": {
    "ExecuteTime": {
     "end_time": "2025-06-24T13:05:04.098071Z",
     "start_time": "2025-06-24T13:05:04.094074Z"
    }
   },
   "source": [
    "# 计算均方误差\n",
    "loss = nn.MSELoss()"
   ],
   "outputs": [],
   "execution_count": 18
  },
  {
   "cell_type": "code",
   "id": "1179f42c-6834-4dc4-9beb-bb9607966038",
   "metadata": {
    "ExecuteTime": {
     "end_time": "2025-06-24T13:05:05.316887Z",
     "start_time": "2025-06-24T13:05:04.127649Z"
    }
   },
   "source": [
    "# 实例化 SGD 实例\n",
    "trainer = torch.optim.SGD(net.parameters(), lr=0.3)\n",
    "# 把这个神经网络里所有要学习的参数都给net.parameters()，用优化器去更新它们"
   ],
   "outputs": [],
   "execution_count": 19
  },
  {
   "cell_type": "code",
   "id": "7452ca30-63c6-429e-89ca-b3fb7d007ee4",
   "metadata": {
    "ExecuteTime": {
     "end_time": "2025-06-24T13:05:05.478177Z",
     "start_time": "2025-06-24T13:05:05.346505Z"
    }
   },
   "source": [
    "# 训练部分\n",
    "num_epochs = 3\n",
    "for epoch in range(num_epochs):\n",
    "    for X, y in data_iter:\n",
    "        l = loss(net(X), y)\n",
    "        trainer.zero_grad()  # 梯度清零\n",
    "        l.backward()\n",
    "        trainer.step()  # 用于根据当前参数的梯度更新模型参数\n",
    "    l = loss(net(features), labels)\n",
    "    print(f'epoch {epoch + 1}, loss {l:f}')"
   ],
   "outputs": [
    {
     "name": "stdout",
     "output_type": "stream",
     "text": [
      "epoch 1, loss 0.000136\n",
      "epoch 2, loss 0.000117\n",
      "epoch 3, loss 0.000115\n"
     ]
    }
   ],
   "execution_count": 20
  }
 ],
 "metadata": {
  "kernelspec": {
   "display_name": "Python 3 (ipykernel)",
   "language": "python",
   "name": "python3"
  },
  "language_info": {
   "codemirror_mode": {
    "name": "ipython",
    "version": 3
   },
   "file_extension": ".py",
   "mimetype": "text/x-python",
   "name": "python",
   "nbconvert_exporter": "python",
   "pygments_lexer": "ipython3",
   "version": "3.12.3"
  }
 },
 "nbformat": 4,
 "nbformat_minor": 5
}
